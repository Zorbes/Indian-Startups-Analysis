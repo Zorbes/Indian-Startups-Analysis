{
 "cells": [
  {
   "cell_type": "code",
   "execution_count": 6,
   "metadata": {},
   "outputs": [],
   "source": [
    "import pandas as pd"
   ]
  },
  {
   "cell_type": "code",
   "execution_count": 1,
   "metadata": {},
   "outputs": [],
   "source": [
    "from dotenv import dotenv_values #import dotenv values from dotenv package\n",
    "import pandas as pd\n",
    "import warnings\n",
    "import pyodbc\n",
    "warnings.filterwarnings('ignore')"
   ]
  },
  {
   "cell_type": "code",
   "execution_count": 9,
   "metadata": {},
   "outputs": [],
   "source": [
    "environment_variables = dotenv_values('.env')\n",
    "\n",
    "#Get values for credentials in .env\n",
    "\n",
    "database = environment_variables.get(\"database\")\n",
    "server = environment_variables.get(\"server\")\n",
    "username = environment_variables.get(\"login\")\n",
    "password = environment_variables.get(\"password\")\n",
    "\n",
    "connection_string = 'DRIVER={ODBC Driver 17 for SQL Server};SERVER={dap-projects-database.database.windows.net};DATABASE={dapDB};UID={LP2_project};PWD={Stat$AndD@t@Rul3}'"
   ]
  },
  {
   "cell_type": "code",
   "execution_count": 10,
   "metadata": {},
   "outputs": [],
   "source": [
    "connection = pyodbc.connect(connection_string)\n",
    "db_query = '''SELECT *\n",
    "FROM INFORMATION_SCHEMA.TABLES\n",
    "WHERE TABLE_TYPE = 'BASE TABLE' '''"
   ]
  }
 ],
 "metadata": {
  "kernelspec": {
   "display_name": "Python 3",
   "language": "python",
   "name": "python3"
  },
  "language_info": {
   "codemirror_mode": {
    "name": "ipython",
    "version": 3
   },
   "file_extension": ".py",
   "mimetype": "text/x-python",
   "name": "python",
   "nbconvert_exporter": "python",
   "pygments_lexer": "ipython3",
   "version": "3.10.9"
  }
 },
 "nbformat": 4,
 "nbformat_minor": 2
}
