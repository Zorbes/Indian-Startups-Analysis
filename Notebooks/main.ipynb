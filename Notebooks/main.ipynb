{
 "cells": [
  {
   "cell_type": "markdown",
   "metadata": {},
   "source": [
    "Indian Start-up Analysis\n",
    "\n",
    "Business Understanding\n",
    "\n",
    "Problem Statement\n",
    "The goal is to analyze the funding patterns in the Indian start-up ecosystem from 2018 to 2021. This analysis aims to identify key trends, top investors, prominent sectors, and geographical hotspots to guide strategic decisions for venturing into the Indian start-up market.\n",
    "\n",
    "Goal\n",
    "Overall Goal: To provide insights into the funding landscape of Indian start-ups over the four years, enabling informed decisions for new investments and business strategies.\n",
    "Specific Goals:\n",
    "    -Understand the total funding received each year and identify trends.\n",
    "    -Identify top investors and their investment patterns.\n",
    "    -Determine which sectors and geographical regions are most active in terms of start-up funding.\n",
    "    -Analyze the types of funding rounds and their prevalence over the years.\n",
    "    -Provide actionable recommendations based on the analysis.\n",
    "\n",
    "Explanation of Features\n",
    "The datasets likely contain the following features:\n",
    "\n",
    "Start-up Name: The name of the start-up receiving funding.\n",
    "Industry/Sector: The sector or industry in which the start-up operates.\n",
    "Funding Amount: The amount of funding received by the start-up.\n",
    "Funding Date: The date on which the funding was received.\n",
    "Funding Round: The stage of funding (e.g., Seed, Series A, Series B, etc.).\n",
    "Investor Name: The name(s) of the investor(s) providing the funding.\n",
    "Location: The geographical location (city, state) of the start-up.\n",
    "Year: The year in which the funding was received.\n",
    "\n",
    "\n",
    "Hypothesis (Null and Alternate)\n",
    "Hypothesis 1:\n",
    "Null Hypothesis (H0): There is no significant change in the total funding amount received by Indian start-ups from 2018 to 2021.\n",
    "Alternate Hypothesis (H1): There is a significant change in the total funding amount received by Indian start-ups from 2018 to 2021.\n",
    "\n",
    "Hypothesis 2:\n",
    "Null Hypothesis (H0): The distribution of funding across different sectors remains consistent from 2018 to 2021.\n",
    "Alternate Hypothesis (H1): The distribution of funding across different sectors changes significantly from 2018 to 2021.\n",
    "\n",
    "\n",
    "Analytical Questions\n",
    "Funding Trends:\n",
    "\n",
    "What is the total amount of funding received by start-ups each year from 2018 to 2021?\n",
    "How has the average funding amount per start-up changed over the years?\n",
    "Investor Analysis:\n",
    "\n",
    "Who are the top investors in terms of total funding amount and number of investments each year?\n",
    "What are the investment patterns of these top investors over the years?\n",
    "Sector Analysis:\n",
    "\n",
    "Which sectors received the most funding each year?\n",
    "How has the distribution of funding across different sectors evolved from 2018 to 2021?\n",
    "Are there emerging sectors with increasing funding trends?\n",
    "Geographical Analysis:\n",
    "\n",
    "Which cities or regions in India received the most funding each year?\n",
    "How has the geographical distribution of funding changed over the years?\n",
    "Funding Rounds:\n",
    "\n",
    "What are the trends in different types of funding rounds (Seed, Series A, etc.) over the years?\n",
    "How does the average funding amount differ across different funding rounds?\n",
    "Overall Insights and Recommendations:\n",
    "\n",
    "What are the key insights from the analysis regarding the Indian start-up ecosystem?\n",
    "Based on the findings, what are the strategic recommendations for venturing into the Indian start-up market?\n",
    "Once the data files are provided, we can proceed with the analysis to answer these questions and validate the hypotheses."
   ]
  },
  {
   "cell_type": "markdown",
   "metadata": {},
   "source": [
    "Data Understanding"
   ]
  },
  {
   "cell_type": "code",
   "execution_count": 57,
   "metadata": {},
   "outputs": [],
   "source": [
    "import pandas as pd"
   ]
  },
  {
   "cell_type": "code",
   "execution_count": 58,
   "metadata": {},
   "outputs": [],
   "source": [
    "from dotenv import dotenv_values #import dotenv values from dotenv package\n",
    "import pandas as pd\n",
    "import warnings\n",
    "import pyodbc\n",
    "warnings.filterwarnings('ignore')"
   ]
  },
  {
   "cell_type": "code",
   "execution_count": 59,
   "metadata": {},
   "outputs": [],
   "source": [
    "#Load environment variables from .env file into a dictionary\n",
    "environment_variables = dotenv_values('.env')\n",
    "\n",
    "#Get values for credentials in .env\n",
    "\n",
    "database = environment_variables.get(\"database\")\n",
    "server = environment_variables.get(\"server\")\n",
    "username = environment_variables.get(\"login\")\n",
    "password = environment_variables.get(\"password\")\n",
    "\n",
    "connection_string = 'DRIVER={ODBC Driver 17 for SQL Server};SERVER={dap-projects-database.database.windows.net};DATABASE={dapDB};UID={LP2_project};PWD={Stat$AndD@t@Rul3}'"
   ]
  },
  {
   "cell_type": "code",
   "execution_count": 60,
   "metadata": {},
   "outputs": [],
   "source": [
    "#passing on the conncetion string\n",
    "connection = pyodbc.connect(connection_string)"
   ]
  },
  {
   "cell_type": "code",
   "execution_count": 61,
   "metadata": {},
   "outputs": [],
   "source": [
    "#Quering data from SQL\n",
    "db_query = '''SELECT *\n",
    "FROM INFORMATION_SCHEMA.TABLES\n",
    "WHERE TABLE_TYPE = 'BASE TABLE' '''"
   ]
  },
  {
   "cell_type": "code",
   "execution_count": 62,
   "metadata": {},
   "outputs": [
    {
     "data": {
      "text/html": [
       "<div>\n",
       "<style scoped>\n",
       "    .dataframe tbody tr th:only-of-type {\n",
       "        vertical-align: middle;\n",
       "    }\n",
       "\n",
       "    .dataframe tbody tr th {\n",
       "        vertical-align: top;\n",
       "    }\n",
       "\n",
       "    .dataframe thead th {\n",
       "        text-align: right;\n",
       "    }\n",
       "</style>\n",
       "<table border=\"1\" class=\"dataframe\">\n",
       "  <thead>\n",
       "    <tr style=\"text-align: right;\">\n",
       "      <th></th>\n",
       "      <th>TABLE_CATALOG</th>\n",
       "      <th>TABLE_SCHEMA</th>\n",
       "      <th>TABLE_NAME</th>\n",
       "      <th>TABLE_TYPE</th>\n",
       "    </tr>\n",
       "  </thead>\n",
       "  <tbody>\n",
       "    <tr>\n",
       "      <th>0</th>\n",
       "      <td>dapDB</td>\n",
       "      <td>dbo</td>\n",
       "      <td>LP2_Telco_churn_first_3000</td>\n",
       "      <td>BASE TABLE</td>\n",
       "    </tr>\n",
       "  </tbody>\n",
       "</table>\n",
       "</div>"
      ],
      "text/plain": [
       "  TABLE_CATALOG TABLE_SCHEMA                  TABLE_NAME  TABLE_TYPE\n",
       "0         dapDB          dbo  LP2_Telco_churn_first_3000  BASE TABLE"
      ]
     },
     "execution_count": 62,
     "metadata": {},
     "output_type": "execute_result"
    }
   ],
   "source": [
    "#read available data\n",
    "data = pd.read_sql(db_query, connection)\n",
    "data.head()"
   ]
  },
  {
   "cell_type": "code",
   "execution_count": null,
   "metadata": {},
   "outputs": [],
   "source": [
    "#Connecting to Database 1\n"
   ]
  }
 ],
 "metadata": {
  "kernelspec": {
   "display_name": "Python 3",
   "language": "python",
   "name": "python3"
  },
  "language_info": {
   "codemirror_mode": {
    "name": "ipython",
    "version": 3
   },
   "file_extension": ".py",
   "mimetype": "text/x-python",
   "name": "python",
   "nbconvert_exporter": "python",
   "pygments_lexer": "ipython3",
   "version": "3.10.9"
  }
 },
 "nbformat": 4,
 "nbformat_minor": 2
}
